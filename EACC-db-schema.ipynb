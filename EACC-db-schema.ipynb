{
 "cells": [
  {
   "cell_type": "code",
   "execution_count": 2,
   "id": "26ecc00f-f8ac-4be4-bf9f-7c3fe21bb230",
   "metadata": {},
   "outputs": [],
   "source": [
    "import sqlite3\n",
    "\n",
    "conn = sqlite3.connect('eacc_app.db')\n",
    "cursor = conn.cursor()                     "
   ]
  },
  {
   "cell_type": "code",
   "execution_count": 3,
   "id": "d43441af-0df0-43b3-8a51-cf6219a44b54",
   "metadata": {},
   "outputs": [
    {
     "data": {
      "text/plain": [
       "<sqlite3.Cursor at 0x1196abb40>"
      ]
     },
     "execution_count": 3,
     "metadata": {},
     "output_type": "execute_result"
    }
   ],
   "source": [
    "# users table\n",
    "cursor.execute('''\n",
    "CREATE TABLE IF NOT EXISTS Users (\n",
    "    user_id INTEGER PRIMARY KEY AUTOINCREMENT,\n",
    "    username TEXT UNIQUE NOT NULL,\n",
    "    email TEXT UNIQUE NOT NULL,\n",
    "    password_hash TEXT NOT NULL,\n",
    "    created_at TIMESTAMP DEFAULT CURRENT_TIMESTAMP,\n",
    "    last_login TIMESTAMP\n",
    ")\n",
    "''')\n",
    "\n",
    "# friend request table\n",
    "cursor.execute('''\n",
    "CREATE TABLE IF NOT EXISTS FriendRequests (\n",
    "    request_id INTEGER PRIMARY KEY AUTOINCREMENT,\n",
    "    sender_id INTEGER NOT NULL,\n",
    "    receiver_id INTEGER NOT NULL,\n",
    "    status TEXT CHECK(status IN ('pending', 'accepted', 'rejected')) DEFAULT 'pending',\n",
    "    sent_at TIMESTAMP DEFAULT CURRENT_TIMESTAMP,\n",
    "    accepted_at TIMESTAMP,\n",
    "    FOREIGN KEY(sender_id) REFERENCES Users(user_id),\n",
    "    FOREIGN KEY(receiver_id) REFERENCES Users(user_id)\n",
    ")\n",
    "''')\n",
    "\n",
    "# friend table\n",
    "cursor.execute('''\n",
    "CREATE TABLE IF NOT EXISTS Friends (\n",
    "    friendship_id INTEGER PRIMARY KEY AUTOINCREMENT,\n",
    "    user_id_1 INTEGER NOT NULL,\n",
    "    user_id_2 INTEGER NOT NULL,\n",
    "    created_at TIMESTAMP DEFAULT CURRENT_TIMESTAMP,\n",
    "    FOREIGN KEY(user_id_1) REFERENCES Users(user_id),\n",
    "    FOREIGN KEY(user_id_2) REFERENCES Users(user_id)\n",
    ")\n",
    "''')\n",
    "\n",
    "# message table\n",
    "cursor.execute('''\n",
    "CREATE TABLE IF NOT EXISTS Messages (\n",
    "    message_id INTEGER PRIMARY KEY AUTOINCREMENT,\n",
    "    sender_id INTEGER NOT NULL,\n",
    "    receiver_id INTEGER NOT NULL,\n",
    "    content TEXT NOT NULL,\n",
    "    sent_at TIMESTAMP DEFAULT CURRENT_TIMESTAMP,\n",
    "    is_read BOOLEAN DEFAULT 0,\n",
    "    FOREIGN KEY(sender_id) REFERENCES Users(user_id),\n",
    "    FOREIGN KEY(receiver_id) REFERENCES Users(user_id)\n",
    ")\n",
    "''')\n",
    "\n",
    "# donations table\n",
    "cursor.execute('''\n",
    "CREATE TABLE IF NOT EXISTS Donations (\n",
    "    donation_id INTEGER PRIMARY KEY AUTOINCREMENT,\n",
    "    user_id INTEGER NOT NULL,\n",
    "    amount REAL NOT NULL,\n",
    "    donated_at TIMESTAMP DEFAULT CURRENT_TIMESTAMP,\n",
    "    message TEXT,\n",
    "    FOREIGN KEY(user_id) REFERENCES Users(user_id)\n",
    ")\n",
    "''')"
   ]
  },
  {
   "cell_type": "code",
   "execution_count": null,
   "id": "aad563e7-68ab-4309-bdc4-50aa58e6ab22",
   "metadata": {},
   "outputs": [],
   "source": []
  }
 ],
 "metadata": {
  "kernelspec": {
   "display_name": "Python 3 (ipykernel)",
   "language": "python",
   "name": "python3"
  },
  "language_info": {
   "codemirror_mode": {
    "name": "ipython",
    "version": 3
   },
   "file_extension": ".py",
   "mimetype": "text/x-python",
   "name": "python",
   "nbconvert_exporter": "python",
   "pygments_lexer": "ipython3",
   "version": "3.12.5"
  }
 },
 "nbformat": 4,
 "nbformat_minor": 5
}
